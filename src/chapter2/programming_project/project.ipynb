{
 "cells": [
  {
   "cell_type": "markdown",
   "metadata": {},
   "source": [
    "##  2.4.1\n",
    "\n",
    "#### Prompt (CLAUDE 3.5):\n",
    "* Give me an algorithm that counts the number of times a character appears in a string.\n",
    "* Provide me test cases \n",
    "\n"
   ]
  },
  {
   "cell_type": "code",
   "execution_count": 16,
   "metadata": {},
   "outputs": [
    {
     "name": "stdout",
     "output_type": "stream",
     "text": [
      "count_symbol('a', 'banana') = 3\n",
      "count_symbol('z', 'banana') = 0\n",
      "count_symbol('o', 'Hello, World!') = 2\n",
      "count_symbol(' ', 'Hello, World!') = 1\n",
      "count_symbol('l', 'Hello, World!') = 3\n"
     ]
    }
   ],
   "source": [
    "def count_symbol(a: str, S: str) -> int:\n",
    "    \"\"\"\n",
    "    Count the number of times a character appears in a string.\n",
    "\n",
    "    Args:\n",
    "    a (str): The character to search for.\n",
    "    S (str): The string to search in.\n",
    "\n",
    "    Returns:\n",
    "    int: The number of times 'a' occurs in 'S', or 0 if 'a' is not in 'S'.\n",
    "\n",
    "    Time Complexity: O(n), where n is the length of string S.\n",
    "    Space Complexity: O(1), as we only use a single counter variable.\n",
    "    \"\"\"\n",
    "    # Check if the input character 'a' is actually a single character\n",
    "    if len(a) != 1:\n",
    "        raise ValueError(\"The first argument 'a' must be a single character.\")\n",
    "\n",
    "    # Initialize a counter for occurrences\n",
    "    count = 0\n",
    "\n",
    "    # Iterate through each character in the string S\n",
    "    for char in S:\n",
    "        # If the current character matches 'a', increment the counter\n",
    "        if char == a:\n",
    "            count += 1\n",
    "\n",
    "    # Return the final count\n",
    "    return count\n",
    "\n",
    "# Test data\n",
    "test_cases = [\n",
    "    ('a', 'banana'),  # Expected output: 3\n",
    "    ('z', 'banana'),  # Expected output: 0\n",
    "    ('o', 'Hello, World!'),  # Expected output: 2\n",
    "    (' ', 'Hello, World!'),  # Expected output: 1\n",
    "    ('l', 'Hello, World!'),  # Expected output: 3\n",
    "]\n",
    "\n",
    "# Run test cases\n",
    "for a, S in test_cases:\n",
    "    result = count_symbol(a, S)\n",
    "    print(f\"count_symbol('{a}', '{S}') = {result}\")\n",
    "\n",
    "\n"
   ]
  },
  {
   "cell_type": "markdown",
   "metadata": {},
   "source": [
    "## 2.4.2\n",
    " \n",
    "#### Prompt (CLAUDE 3.5)\n",
    "* Write a program to define codes and store them on the computer. Use the dictionary data structure.\n",
    "* the program should include reading previous coding schemes cre- ated by the user. Files should be in plain text with .txt extension\n",
    "* give me as output a dictionary data structure"
   ]
  },
  {
   "cell_type": "code",
   "execution_count": 17,
   "metadata": {},
   "outputs": [
    {
     "name": "stdout",
     "output_type": "stream",
     "text": [
      "Coding scheme for source alphabet 'abcde' already exists.\n",
      "Coding scheme for source alphabet 'xyz' already exists.\n",
      "Source alphabet must contain only alphanumeric characters.\n"
     ]
    }
   ],
   "source": [
    "import os\n",
    "import ast\n",
    "\n",
    "def define_code(source_alphabet, code_mapping):\n",
    "    \"\"\"\n",
    "    Defines and stores a coding scheme using a dictionary data structure.\n",
    "\n",
    "    Args:\n",
    "        source_alphabet (str): The source alphabet, consisting of alphanumeric characters.\n",
    "        code_mapping (dict): A dictionary mapping characters from the source alphabet to their corresponding binary code.\n",
    "\n",
    "    Returns:\n",
    "        dict: A dictionary containing the coding scheme.\n",
    "    \"\"\"\n",
    "    # Validate the source alphabet: all characters must be alphanumeric\n",
    "    if not all(char.isalnum() for char in source_alphabet):\n",
    "        raise ValueError(\"Source alphabet must contain only alphanumeric characters.\")\n",
    "\n",
    "    # Load existing coding schemes from files\n",
    "    coding_schemes = load_coding_schemes()\n",
    "\n",
    "    # Check if the current coding scheme already exists\n",
    "    if source_alphabet in coding_schemes:\n",
    "        print(f\"Coding scheme for source alphabet '{source_alphabet}' already exists.\")\n",
    "        return coding_schemes[source_alphabet]\n",
    "\n",
    "    # Store the new coding scheme\n",
    "    coding_schemes[source_alphabet] = code_mapping\n",
    "    save_coding_schemes(coding_schemes)\n",
    "\n",
    "    print(f\"New coding scheme for source alphabet '{source_alphabet}' has been saved.\")\n",
    "    return code_mapping\n",
    "\n",
    "def load_coding_schemes():\n",
    "    \"\"\"\n",
    "    Loads existing coding schemes from files.\n",
    "\n",
    "    Returns:\n",
    "        dict: A dictionary containing the loaded coding schemes.\n",
    "    \"\"\"\n",
    "    coding_schemes = {}\n",
    "    # Check if the 'coding_schemes' directory exists\n",
    "    if not os.path.exists(\"coding_schemes\"):\n",
    "        # If the directory doesn't exist, return an empty dictionary\n",
    "        return coding_schemes\n",
    "\n",
    "    # Iterate over each file in the 'coding_schemes' directory\n",
    "    for filename in os.listdir(\"coding_schemes\"):\n",
    "        if filename.endswith(\".txt\"):\n",
    "            filepath = os.path.join(\"coding_schemes\", filename)\n",
    "            with open(filepath, \"r\") as file:\n",
    "                source_alphabet = filename[:-4]  # Remove '.txt' extension to get the source alphabet\n",
    "                # Safely evaluate the dictionary from the file content\n",
    "                code_mapping = ast.literal_eval(file.read())\n",
    "                coding_schemes[source_alphabet] = code_mapping\n",
    "    return coding_schemes\n",
    "\n",
    "def save_coding_schemes(coding_schemes):\n",
    "    \"\"\"\n",
    "    Saves the current coding schemes to files.\n",
    "\n",
    "    Args:\n",
    "        coding_schemes (dict): The dictionary containing the current coding schemes.\n",
    "    \"\"\"\n",
    "    # Ensure the 'coding_schemes' directory exists\n",
    "    if not os.path.exists(\"coding_schemes\"):\n",
    "        os.makedirs(\"coding_schemes\")\n",
    "\n",
    "    # Save each coding scheme to a separate file\n",
    "    for source_alphabet, code_mapping in coding_schemes.items():\n",
    "        filename = os.path.join(\"coding_schemes\", f\"{source_alphabet}.txt\")\n",
    "        with open(filename, \"w\") as file:\n",
    "            file.write(str(code_mapping))\n",
    "\n",
    "# Test data for the function\n",
    "if __name__ == \"__main__\":\n",
    "    # Define a source alphabet and a code mapping\n",
    "    source_alphabet = \"abcde\"\n",
    "    code_mapping = {\n",
    "        \"a\": \"00\",\n",
    "        \"b\": \"01\",\n",
    "        \"c\": \"10\",\n",
    "        \"d\": \"11\",\n",
    "        \"e\": \"000\"\n",
    "    }\n",
    "\n",
    "    # Call the define_code function with the test data\n",
    "    define_code(source_alphabet, code_mapping)\n",
    "\n",
    "    # Define another coding scheme\n",
    "    source_alphabet2 = \"xyz\"\n",
    "    code_mapping2 = {\n",
    "        \"x\": \"0\",\n",
    "        \"y\": \"10\",\n",
    "        \"z\": \"110\"\n",
    "    }\n",
    "\n",
    "    # Call the define_code function with the new test data\n",
    "    define_code(source_alphabet2, code_mapping2)\n",
    "\n",
    "    # Attempt to define a coding scheme with a non-alphanumeric source alphabet\n",
    "    try:\n",
    "        define_code(\"ab$\", {\"a\": \"0\", \"b\": \"1\", \"$\": \"01\"})\n",
    "    except ValueError as e:\n",
    "        print(e)\n"
   ]
  },
  {
   "cell_type": "markdown",
   "metadata": {},
   "source": [
    "## 2.4.3 and 2.4.5\n",
    "\n",
    "\n",
    "#### Prompt (CLAUDE 3.5):\n",
    "*   Determines whether a given coding scheme is uniquely decodable.\n",
    "    Using Sardinas-Patterson theorem:\n",
    "    A code C is uniquely decodable if and only if the sets C and L-INF are disjoint.\n",
    "*   Step 1: Calculate L1: L1 = {b | ab ∈ C and a ∈ C}\n",
    "*   Step 2: Calculate Ln using iteration: L_n = {b | ab ∈ L_n-1 and a ∈ C} U {b | ab ∈ C and a ∈ L_n-1}\n",
    "*   Step 3: Check for periodicity as exit condition\n",
    "*   Final step : Check if the sets C and L_inf are disjoint\n"
   ]
  },
  {
   "cell_type": "code",
   "execution_count": 18,
   "metadata": {},
   "outputs": [
    {
     "name": "stdout",
     "output_type": "stream",
     "text": [
      "Is C1 uniquely decodable? True\n",
      "Is C2 uniquely decodable? False\n"
     ]
    }
   ],
   "source": [
    "def is_uniquely_decodable(source_alphabet, code_scheme):\n",
    "    \"\"\"\n",
    "    Determines whether a given coding scheme is uniquely decodable.\n",
    "    Using Sardinas-Patterson theorem:\n",
    "    A code C is uniquely decodable if and only if the sets C and L-INF are disjoint.\n",
    "\n",
    "    Args:\n",
    "    source_alphabet (list): List of characters in the source alphabet.\n",
    "    code_scheme (dict): Dictionary mapping source characters to binary codes.\n",
    "\n",
    "    Returns:\n",
    "    bool: True if the code is uniquely decodable, False otherwise.\n",
    "\n",
    "    Time complexity: O(i*n^2*m) where n is the size of the code (n^2 to calculate string quotients), m is the length of the longest string, \n",
    "                     and i is the number of iterations until periodicity is detected\n",
    "    Space complexity: O(i*n*m) (L_history array of sets of strings), where n is the size of the code and m the length of the longest string \n",
    "                    and i is the number of iterations until periodicity is detected (since for each iteration i add a code in L_history)\n",
    "    \"\"\"\n",
    "    # Convert the code scheme to a set of codewords\n",
    "    C = set(code_scheme.values())\n",
    "    \n",
    "    # Step 1: Calculate L1\n",
    "    # L1 = {b | ab ∈ C and a ∈ C}\n",
    "    L1 = set()\n",
    "    for a in C:\n",
    "        for ab in C:\n",
    "            if ab.startswith(a) and ab != a:\n",
    "                L1.add(ab[len(a):])\n",
    "\n",
    "    # Step 2: Calculate Ln using iteration\n",
    "    # L_n = {b | ab ∈ L_n-1 and a ∈ C} U {b | ab ∈ C and a ∈ L_n-1}\n",
    "    L_inf = set()\n",
    "    L_prev = L1\n",
    "    L_history = [set(), L1]  # To detect periodicity\n",
    "\n",
    "    while True:\n",
    "        L_n = set()\n",
    "        \n",
    "        # {b | ab ∈ L_n-1 and a ∈ C}\n",
    "        for a in C:\n",
    "            for ab in L_prev:\n",
    "                if ab.startswith(a):\n",
    "                    L_n.add(ab[len(a):])\n",
    "        \n",
    "        # {b | ab ∈ C and a ∈ L_n-1}\n",
    "        for a in L_prev:\n",
    "            for ab in C:\n",
    "                if ab.startswith(a):\n",
    "                    L_n.add(ab[len(a):])\n",
    "        \n",
    "        # Add L_n to L_inf\n",
    "        L_inf.update(L_n)\n",
    "        \n",
    "        # Check for periodicity  \n",
    "        # exit condition 1: looking if a word of L_n is in C\n",
    "        for el in L_n:\n",
    "            if el in C:\n",
    "                return False\n",
    "\n",
    "        # exit condition 2 : check if L_n is equal to another previous set \n",
    "        if L_n in L_history:\n",
    "            break\n",
    "\n",
    "        # exit condition3: if the size of L_n is 0\n",
    "        if len(L_n) == 0:\n",
    "            break\n",
    "        \n",
    "        L_history.append(L_n)\n",
    "        L_prev = L_n\n",
    "\n",
    "    # Step 3: Check if the sets C and L_inf are disjoint\n",
    "    return len(C.intersection(L_inf)) == 0\n",
    "\n",
    "# Test data\n",
    "A = ['a', 'b', 'c', 'd']\n",
    "C1 = {'a': '11', 'b': '0', 'c': '101', 'd': '100'}\n",
    "C2 = {'a': '1', 'b': '0', 'c': '10', 'd': '01'}\n",
    "\n",
    "# Test the function\n",
    "print(\"Is C1 uniquely decodable?\", is_uniquely_decodable(A, C1))\n",
    "print(\"Is C2 uniquely decodable?\", is_uniquely_decodable(A, C2))\n"
   ]
  },
  {
   "cell_type": "markdown",
   "metadata": {},
   "source": [
    "## Sardinas Patterson demonstration"
   ]
  },
  {
   "cell_type": "code",
   "execution_count": 19,
   "metadata": {},
   "outputs": [
    {
     "data": {
      "text/latex": [
       "$\\displaystyle \\textbf{Proof that the Sardinas-Patterson Algorithm Always Terminates}$"
      ],
      "text/plain": [
       "<IPython.core.display.Math object>"
      ]
     },
     "metadata": {},
     "output_type": "display_data"
    },
    {
     "data": {
      "text/latex": [
       "$\\displaystyle \\text{---}$"
      ],
      "text/plain": [
       "<IPython.core.display.Math object>"
      ]
     },
     "metadata": {},
     "output_type": "display_data"
    },
    {
     "data": {
      "text/latex": [
       "$\\displaystyle \\textbf{Definitions:}$"
      ],
      "text/plain": [
       "<IPython.core.display.Math object>"
      ]
     },
     "metadata": {},
     "output_type": "display_data"
    },
    {
     "data": {
      "text/latex": [
       "$\\displaystyle \\text{Let } C \\text{ be a finite set of codewords over a finite alphabet } S.$"
      ],
      "text/plain": [
       "<IPython.core.display.Math object>"
      ]
     },
     "metadata": {},
     "output_type": "display_data"
    },
    {
     "data": {
      "text/latex": [
       "$\\displaystyle L_0 = C$"
      ],
      "text/plain": [
       "<IPython.core.display.Math object>"
      ]
     },
     "metadata": {},
     "output_type": "display_data"
    },
    {
     "data": {
      "text/latex": [
       "$\\displaystyle L_1 = \\{ b  \\mid ab \\in C, a \\in C \\}$"
      ],
      "text/plain": [
       "<IPython.core.display.Math object>"
      ]
     },
     "metadata": {},
     "output_type": "display_data"
    },
    {
     "data": {
      "text/latex": [
       "$\\displaystyle n>{1}$"
      ],
      "text/plain": [
       "<IPython.core.display.Math object>"
      ]
     },
     "metadata": {},
     "output_type": "display_data"
    },
    {
     "data": {
      "text/latex": [
       "$\\displaystyle L_n = C^{-1} L_{n-1} \\cup L_{n-1}^{-1} C$"
      ],
      "text/plain": [
       "<IPython.core.display.Math object>"
      ]
     },
     "metadata": {},
     "output_type": "display_data"
    },
    {
     "data": {
      "text/latex": [
       "$\\displaystyle \\text{---}$"
      ],
      "text/plain": [
       "<IPython.core.display.Math object>"
      ]
     },
     "metadata": {},
     "output_type": "display_data"
    },
    {
     "data": {
      "text/latex": [
       "$\\displaystyle \\textbf{Objective:}$"
      ],
      "text/plain": [
       "<IPython.core.display.Math object>"
      ]
     },
     "metadata": {},
     "output_type": "display_data"
    },
    {
     "data": {
      "text/latex": [
       "$\\displaystyle \\text{Prove that the sequence } L_1, L_2, \\dots, L_n \\text{ cannot produce infinitely many distinct sets and that the algorithm terminates after a finite number of steps.}$"
      ],
      "text/plain": [
       "<IPython.core.display.Math object>"
      ]
     },
     "metadata": {},
     "output_type": "display_data"
    },
    {
     "data": {
      "text/latex": [
       "$\\displaystyle \\text{---}$"
      ],
      "text/plain": [
       "<IPython.core.display.Math object>"
      ]
     },
     "metadata": {},
     "output_type": "display_data"
    },
    {
     "data": {
      "text/latex": [
       "$\\displaystyle \\textbf{Proof:}$"
      ],
      "text/plain": [
       "<IPython.core.display.Math object>"
      ]
     },
     "metadata": {},
     "output_type": "display_data"
    },
    {
     "data": {
      "text/latex": [
       "$\\displaystyle \\text{1. Finite Alphabet and Codewords:}$"
      ],
      "text/plain": [
       "<IPython.core.display.Math object>"
      ]
     },
     "metadata": {},
     "output_type": "display_data"
    },
    {
     "data": {
      "text/latex": [
       "$\\displaystyle \\quad \\text{The alphabet } S \\text{ is finite.}$"
      ],
      "text/plain": [
       "<IPython.core.display.Math object>"
      ]
     },
     "metadata": {},
     "output_type": "display_data"
    },
    {
     "data": {
      "text/latex": [
       "$\\displaystyle \\quad \\text{The code } C \\text{ consists of finite codewords each of finite length}$"
      ],
      "text/plain": [
       "<IPython.core.display.Math object>"
      ]
     },
     "metadata": {},
     "output_type": "display_data"
    },
    {
     "data": {
      "text/latex": [
       "$\\displaystyle \\quad \\text{Let } l = \\max\\{ \\ell(c) \\mid c \\in C \\}, \\text{ where } \\ell(c) \\text{ denotes the length of } c.$"
      ],
      "text/plain": [
       "<IPython.core.display.Math object>"
      ]
     },
     "metadata": {},
     "output_type": "display_data"
    },
    {
     "data": {
      "text/latex": [
       "$\\displaystyle \\text{2. Bound on the Length of Words in } L_n:$"
      ],
      "text/plain": [
       "<IPython.core.display.Math object>"
      ]
     },
     "metadata": {},
     "output_type": "display_data"
    },
    {
     "data": {
      "text/latex": [
       "$\\displaystyle \\quad \\text{Each word } w \\in L_n \\text{ has length } \\leq l\\ \\text{ (proved in Theorem 2.3.13)}$"
      ],
      "text/plain": [
       "<IPython.core.display.Math object>"
      ]
     },
     "metadata": {},
     "output_type": "display_data"
    },
    {
     "data": {
      "text/latex": [
       "$\\displaystyle \\text{3. Finite number of elements in:} L_n$"
      ],
      "text/plain": [
       "<IPython.core.display.Math object>"
      ]
     },
     "metadata": {},
     "output_type": "display_data"
    },
    {
     "data": {
      "text/latex": [
       "$\\displaystyle \\quad \\text{from 2 we can deduct that since each word }  w \\in L_n \\text{ is finite also the possible elements in } L_n \\text{ are finite because there is a finite number of words} \\leq l$"
      ],
      "text/plain": [
       "<IPython.core.display.Math object>"
      ]
     },
     "metadata": {},
     "output_type": "display_data"
    },
    {
     "data": {
      "text/latex": [
       "$\\displaystyle \\quad \\text{this implies that also the different possible sets of word with lenght } \\leq l \\text{ is finite}$"
      ],
      "text/plain": [
       "<IPython.core.display.Math object>"
      ]
     },
     "metadata": {},
     "output_type": "display_data"
    },
    {
     "data": {
      "text/latex": [
       "$\\displaystyle \\text{4. Termination of the Algorithm:}$"
      ],
      "text/plain": [
       "<IPython.core.display.Math object>"
      ]
     },
     "metadata": {},
     "output_type": "display_data"
    },
    {
     "data": {
      "text/latex": [
       "$\\displaystyle \\quad \\text{• Case 1: } L_n = \\emptyset$"
      ],
      "text/plain": [
       "<IPython.core.display.Math object>"
      ]
     },
     "metadata": {},
     "output_type": "display_data"
    },
    {
     "data": {
      "text/latex": [
       "$\\displaystyle \\quad \\quad \\text{The algorithm terminates because there are no new prefixes to process.}$"
      ],
      "text/plain": [
       "<IPython.core.display.Math object>"
      ]
     },
     "metadata": {},
     "output_type": "display_data"
    },
    {
     "data": {
      "text/latex": [
       "$\\displaystyle \\quad \\text{• Case 2: } L_n = L_k \\text{ for some } k < n$"
      ],
      "text/plain": [
       "<IPython.core.display.Math object>"
      ]
     },
     "metadata": {},
     "output_type": "display_data"
    },
    {
     "data": {
      "text/latex": [
       "$\\displaystyle \\quad \\quad \\text{The algorithm detects this repetition and terminates.}$"
      ],
      "text/plain": [
       "<IPython.core.display.Math object>"
      ]
     },
     "metadata": {},
     "output_type": "display_data"
    },
    {
     "data": {
      "text/latex": [
       "$\\displaystyle \\text{5. Pigeonhole Principle:}$"
      ],
      "text/plain": [
       "<IPython.core.display.Math object>"
      ]
     },
     "metadata": {},
     "output_type": "display_data"
    },
    {
     "data": {
      "text/latex": [
       "$\\displaystyle \\quad \\text{Since there are finitely many possible sets of } L_n \\text{ , some } L_n \\text{ must repeat or become empty. and thus the algorithm will always terminate}$"
      ],
      "text/plain": [
       "<IPython.core.display.Math object>"
      ]
     },
     "metadata": {},
     "output_type": "display_data"
    },
    {
     "data": {
      "text/latex": [
       "$\\displaystyle \\text{6. Conclusion:}$"
      ],
      "text/plain": [
       "<IPython.core.display.Math object>"
      ]
     },
     "metadata": {},
     "output_type": "display_data"
    },
    {
     "data": {
      "text/latex": [
       "$\\displaystyle \\quad \\text{The algorithm cannot produce infinitely many distinct } L_n \\text{ sets.}$"
      ],
      "text/plain": [
       "<IPython.core.display.Math object>"
      ]
     },
     "metadata": {},
     "output_type": "display_data"
    },
    {
     "data": {
      "text/latex": [
       "$\\displaystyle \\quad \\text{Therefore, the Sardinas-Patterson algorithm must terminate after a finite number of steps.}$"
      ],
      "text/plain": [
       "<IPython.core.display.Math object>"
      ]
     },
     "metadata": {},
     "output_type": "display_data"
    },
    {
     "data": {
      "text/latex": [
       "$\\displaystyle \\text{---}$"
      ],
      "text/plain": [
       "<IPython.core.display.Math object>"
      ]
     },
     "metadata": {},
     "output_type": "display_data"
    }
   ],
   "source": [
    "from IPython.display import Math, display\n",
    "\n",
    "# Title\n",
    "display(Math(r'\\textbf{Proof that the Sardinas-Patterson Algorithm Always Terminates}'))\n",
    "display(Math(r'\\text{---}'))\n",
    "\n",
    "# Definitions\n",
    "display(Math(r'\\textbf{Definitions:}'))\n",
    "\n",
    "# Let C be a finite set of codewords over a finite alphabet Σ.\n",
    "display(Math(r'\\text{Let } C \\text{ be a finite set of codewords over a finite alphabet } S.'))\n",
    "\n",
    "# Define L_0 and L_1\n",
    "display(Math(r'L_0 = C'))\n",
    "display(Math(r'L_1 = \\{ b  \\mid ab \\in C, a \\in C \\}'))\n",
    "\n",
    "# Construction of L_{n}\n",
    "\n",
    "display(Math(r'n>{1}'))\n",
    "display(Math(r'L_n = C^{-1} L_{n-1} \\cup L_{n-1}^{-1} C'))\n",
    "\n",
    "display(Math(r'\\text{---}'))\n",
    "\n",
    "# Objective\n",
    "display(Math(r'\\textbf{Objective:}'))\n",
    "display(Math(r'\\text{Prove that the sequence } L_1, L_2, \\dots, L_n \\text{ cannot produce infinitely many distinct sets and that the algorithm terminates after a finite number of steps.}'))\n",
    "\n",
    "display(Math(r'\\text{---}'))\n",
    "\n",
    "# Proof\n",
    "display(Math(r'\\textbf{Proof:}'))\n",
    "\n",
    "# 1. Finite Alphabet and Codewords\n",
    "display(Math(r'\\text{1. Finite Alphabet and Codewords:}'))\n",
    "display(Math(r'\\quad \\text{The alphabet } S \\text{ is finite.}'))\n",
    "display(Math(r'\\quad \\text{The code } C \\text{ consists of finite codewords each of finite length}'))\n",
    "display(Math(r'\\quad \\text{Let } l = \\max\\{ \\ell(c) \\mid c \\in C \\}, \\text{ where } \\ell(c) \\text{ denotes the length of } c.'))\n",
    "\n",
    "# 2. Bound on the Length of Words in L_n\n",
    "display(Math(r'\\text{2. Bound on the Length of Words in } L_n:'))\n",
    "display(Math(r'\\quad \\text{Each word } w \\in L_n \\text{ has length } \\leq l\\ \\text{ (proved in Theorem 2.3.13)}'))\n",
    "\n",
    "# 3. Finite Number of elements in L_n\n",
    "display(Math(r'\\text{3. Finite number of elements in:} L_n'))\n",
    "display(Math(r'\\quad \\text{from 2 we can deduct that since each word }  w \\in L_n \\text{ is finite also the possible elements in } L_n \\text{ are finite because there is a finite number of words} \\leq l'))\n",
    "display(Math(r'\\quad \\text{this implies that also the different possible sets of word with lenght } \\leq l \\text{ is finite}'))\n",
    "\n",
    "# 4. Termination of the Algorithm\n",
    "display(Math(r'\\text{4. Termination of the Algorithm:}'))\n",
    "display(Math(r'\\quad \\text{• Case 1: } L_n = \\emptyset'))\n",
    "display(Math(r'\\quad \\quad \\text{The algorithm terminates because there are no new prefixes to process.}'))\n",
    "display(Math(r'\\quad \\text{• Case 2: } L_n = L_k \\text{ for some } k < n'))\n",
    "display(Math(r'\\quad \\quad \\text{The algorithm detects this repetition and terminates.}'))\n",
    "\n",
    "# 5. Pigeonhole Principle\n",
    "display(Math(r'\\text{5. Pigeonhole Principle:}'))\n",
    "display(Math(r'\\quad \\text{Since there are finitely many possible sets of } L_n \\text{ , some } L_n \\text{ must repeat or become empty. and thus the algorithm will always terminate}'))\n",
    "\n",
    "\n",
    "# 6. Conclusion\n",
    "display(Math(r'\\text{6. Conclusion:}'))\n",
    "display(Math(r'\\quad \\text{The algorithm cannot produce infinitely many distinct } L_n \\text{ sets.}'))\n",
    "display(Math(r'\\quad \\text{Therefore, the Sardinas-Patterson algorithm must terminate after a finite number of steps.}'))\n",
    "\n",
    "display(Math(r'\\text{---}'))\n",
    "\n"
   ]
  },
  {
   "cell_type": "markdown",
   "metadata": {},
   "source": [
    "## 2.4.12\n",
    "\n",
    "#### Implemented from scratch"
   ]
  },
  {
   "cell_type": "code",
   "execution_count": 20,
   "metadata": {},
   "outputs": [
    {
     "name": "stdout",
     "output_type": "stream",
     "text": [
      "Is C1 instantanous? True\n",
      "Is C2 instantaneous? False\n",
      "Is 3 instantaneous? True\n"
     ]
    }
   ],
   "source": [
    "def is_istantaneous(source_alphabet, code_scheme):\n",
    "    \"\"\"\n",
    "    Determines whether a given coding scheme is instaneous.\n",
    "\n",
    "    Using Theorem 2.4.8. Equivalence condition for instantaneous codes\n",
    "    A code C is instantaneous if and only if it is a prefix code. \n",
    "\n",
    "    Args:\n",
    "    source_alphabet (list): List of characters in the source alphabet.\n",
    "    code_scheme (dict): Dictionary mapping source characters to binary codes.\n",
    "\n",
    "    Returns:\n",
    "    bool: True if the code is instantaneous, False otherwise.\n",
    "\n",
    "    Time complexity: O(n^2) where n is the size of the code, m is the length of the longest string, \n",
    "                     and i is the number of iterations until periodicity is detected\n",
    "    Space complexity: O(1) no auxiliary space needed\n",
    "    \"\"\"\n",
    "    # Convert the code scheme to a set of codewords\n",
    "    C = list(set(code_scheme.values()))\n",
    "    \n",
    "    # Check for each element if it's a prefix of other elements\n",
    "    for i,el1 in enumerate(C):\n",
    "        for el2 in C[i:]:\n",
    "            if (el1.startswith(el2) or el2.startswith(el1)) and el1 != el2:\n",
    "                return False\n",
    "\n",
    "\n",
    "    return True\n",
    "\n",
    "# Test data\n",
    "A = ['a', 'b', 'c', 'd']\n",
    "C1 = {'a': '11', 'b': '0', 'c': '101', 'd': '100'}\n",
    "C2 = {'a': '1', 'b': '0', 'c': '10', 'd': '01'}\n",
    "C3 = {'a': '1', 'b': '0'}\n",
    "\n",
    "# Test the function\n",
    "print(\"Is C1 instantanous?\", is_istantaneous(A, C1))\n",
    "print(\"Is C2 instantaneous?\", is_istantaneous(A, C2))\n",
    "print(\"Is 3 instantaneous?\", is_istantaneous(A, C3))\n"
   ]
  },
  {
   "cell_type": "code",
   "execution_count": 21,
   "metadata": {},
   "outputs": [
    {
     "data": {
      "text/latex": [
       "$\\displaystyle \\textbf{Definition of Instantaneous Codes}$"
      ],
      "text/plain": [
       "<IPython.core.display.Math object>"
      ]
     },
     "metadata": {},
     "output_type": "display_data"
    },
    {
     "data": {
      "text/latex": [
       "$\\displaystyle \\text{A code } C \\text{ is called an instantaneous code  if no codeword in } C \\text{ is a prefix of any other codeword in } C.$"
      ],
      "text/plain": [
       "<IPython.core.display.Math object>"
      ]
     },
     "metadata": {},
     "output_type": "display_data"
    },
    {
     "data": {
      "text/latex": [
       "$\\displaystyle \\text{Formally:}$"
      ],
      "text/plain": [
       "<IPython.core.display.Math object>"
      ]
     },
     "metadata": {},
     "output_type": "display_data"
    },
    {
     "data": {
      "text/latex": [
       "$\\displaystyle \\forall\\, x, y \\in C,\\ x \\ne y\\ \\implies\\ x \\not\\preceq y$"
      ],
      "text/plain": [
       "<IPython.core.display.Math object>"
      ]
     },
     "metadata": {},
     "output_type": "display_data"
    },
    {
     "data": {
      "text/latex": [
       "$\\displaystyle \\text{where } x \\preceq y \\text{ denotes that } x \\text{ is a prefix of } y,$"
      ],
      "text/plain": [
       "<IPython.core.display.Math object>"
      ]
     },
     "metadata": {},
     "output_type": "display_data"
    },
    {
     "data": {
      "text/latex": [
       "$\\displaystyle \\text{meaning that it does not exist any string } z \\text{ such that:}$"
      ],
      "text/plain": [
       "<IPython.core.display.Math object>"
      ]
     },
     "metadata": {},
     "output_type": "display_data"
    },
    {
     "data": {
      "text/latex": [
       "$\\displaystyle y = x z$"
      ],
      "text/plain": [
       "<IPython.core.display.Math object>"
      ]
     },
     "metadata": {},
     "output_type": "display_data"
    },
    {
     "data": {
      "text/latex": [
       "$\\displaystyle \\text{and } z \\text{ can be any string (possibly empty).}$"
      ],
      "text/plain": [
       "<IPython.core.display.Math object>"
      ]
     },
     "metadata": {},
     "output_type": "display_data"
    }
   ],
   "source": [
    "from IPython.display import Math, display\n",
    "\n",
    "# Definition Title\n",
    "display(Math(r'\\textbf{Definition of Instantaneous Codes}'))\n",
    "\n",
    "# Main Definition\n",
    "display(Math(r'\\text{A code } C \\text{ is called an instantaneous code  if no codeword in } C \\text{ is a prefix of any other codeword in } C.'))\n",
    "\n",
    "# Formal Expression\n",
    "display(Math(r'\\text{Formally:}'))\n",
    "display(Math(r'\\forall\\, x, y \\in C,\\ x \\ne y\\ \\implies\\ x \\not\\preceq y'))\n",
    "\n",
    "# Explanation of Prefix Relation\n",
    "display(Math(r'\\text{where } x \\preceq y \\text{ denotes that } x \\text{ is a prefix of } y,'))\n",
    "display(Math(r'\\text{meaning that it does not exist any string } z \\text{ such that:}'))\n",
    "\n",
    "# Equation\n",
    "display(Math(r'y = x z'))\n",
    "\n",
    "# Note about z\n",
    "display(Math(r'\\text{and } z \\text{ can be any string (possibly empty).}'))\n"
   ]
  },
  {
   "cell_type": "code",
   "execution_count": null,
   "metadata": {},
   "outputs": [],
   "source": []
  }
 ],
 "metadata": {
  "kernelspec": {
   "display_name": "base",
   "language": "python",
   "name": "python3"
  },
  "language_info": {
   "codemirror_mode": {
    "name": "ipython",
    "version": 3
   },
   "file_extension": ".py",
   "mimetype": "text/x-python",
   "name": "python",
   "nbconvert_exporter": "python",
   "pygments_lexer": "ipython3",
   "version": "3.9.12"
  }
 },
 "nbformat": 4,
 "nbformat_minor": 2
}
